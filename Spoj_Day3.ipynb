{
 "cells": [
  {
   "cell_type": "markdown",
   "metadata": {},
   "source": [
    "# ASSIST - Assistance Required"
   ]
  },
  {
   "cell_type": "code",
   "execution_count": 2,
   "metadata": {},
   "outputs": [
    {
     "name": "stdout",
     "output_type": "stream",
     "text": [
      "5\n",
      "11\n",
      "8\n",
      "19\n",
      "0\n"
     ]
    }
   ],
   "source": [
    "x=2\n",
    "while x!=0:\n",
    "    x=int(input())\n",
    "    if x!=0:\n",
    "        n,c=1,0\n",
    "        while(c<x):\n",
    "            n+=1\n",
    "            for i in range(2,n+1):\n",
    "                if(n%i==0):\n",
    "                    break\n",
    "            if(i==n):\n",
    "                c=c+1\n",
    "        print(n)\n",
    "    else:\n",
    "        x=1\n",
    "        break"
   ]
  },
  {
   "cell_type": "markdown",
   "metadata": {},
   "source": [
    "# CPTTRN3 - Character Patterns (Act 3)"
   ]
  },
  {
   "cell_type": "code",
   "execution_count": 31,
   "metadata": {},
   "outputs": [
    {
     "name": "stdout",
     "output_type": "stream",
     "text": [
      "3\n",
      "3 1\n",
      "****\n",
      "*..*\n",
      "*..*\n",
      "****\n",
      "*..*\n",
      "*..*\n",
      "****\n",
      "*..*\n",
      "*..*\n",
      "****\n",
      "4 4\n",
      "*************\n",
      "*..*..*..*..*\n",
      "*..*..*..*..*\n",
      "*************\n",
      "*..*..*..*..*\n",
      "*..*..*..*..*\n",
      "*************\n",
      "*..*..*..*..*\n",
      "*..*..*..*..*\n",
      "*************\n",
      "*..*..*..*..*\n",
      "*..*..*..*..*\n",
      "*************\n",
      "2 5\n",
      "****************\n",
      "*..*..*..*..*..*\n",
      "*..*..*..*..*..*\n",
      "****************\n",
      "*..*..*..*..*..*\n",
      "*..*..*..*..*..*\n",
      "****************\n"
     ]
    }
   ],
   "source": [
    "T= int(input())\n",
    "for i in range(T):\n",
    "    M, N = map(int, input().split())\n",
    "    for a in range(M):\n",
    "        print(f'{N * \"***\"}*')\n",
    "        for b in range(2):\n",
    "            print(f'{N * \"*..\"}*')\n",
    "    print(f'{N * \"***\"}*')"
   ]
  },
  {
   "cell_type": "markdown",
   "metadata": {},
   "source": [
    "# FUCT_IF_SQUARE - Geometric square"
   ]
  },
  {
   "cell_type": "code",
   "execution_count": 55,
   "metadata": {},
   "outputs": [
    {
     "name": "stdout",
     "output_type": "stream",
     "text": [
      "7\n",
      "0\n",
      "1\n",
      "-2\n",
      "3\n",
      "12\n",
      "-3\n",
      "20\n",
      "the length of square's edge must be greater than 0\n",
      "4 1\n",
      "the length of square's edge must be greater than 0\n",
      "12 9\n",
      "the length of square's edge must be greater than 0\n",
      "48 144\n",
      "the length of square's edge must be greater than 0\n",
      "80 400\n"
     ]
    }
   ],
   "source": [
    "t=int(input())\n",
    "x=[]\n",
    "for i in range(t):\n",
    "    x.append(int(input()))\n",
    "\n",
    "def perimetre_area(a):\n",
    "    perimeter= 4*a\n",
    "    area= a*a\n",
    "    return perimeter,area\n",
    "\n",
    "edge_greterthan0=list(filter(lambda x: x > 0, x))\n",
    "a=list(map(perimetre_area, edge_greterthan0))\n",
    "for i in range(len(a)):\n",
    "    print(f\"the length of square's edge must be greater than 0\\n{a[i][0]} {a[i][1]}\")"
   ]
  },
  {
   "cell_type": "code",
   "execution_count": null,
   "metadata": {},
   "outputs": [],
   "source": []
  }
 ],
 "metadata": {
  "kernelspec": {
   "display_name": "Python 3",
   "language": "python",
   "name": "python3"
  },
  "language_info": {
   "codemirror_mode": {
    "name": "ipython",
    "version": 3
   },
   "file_extension": ".py",
   "mimetype": "text/x-python",
   "name": "python",
   "nbconvert_exporter": "python",
   "pygments_lexer": "ipython3",
   "version": "3.8.3"
  }
 },
 "nbformat": 4,
 "nbformat_minor": 4
}
