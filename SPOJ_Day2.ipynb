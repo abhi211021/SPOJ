{
 "cells": [
  {
   "cell_type": "markdown",
   "metadata": {},
   "source": [
    "# SMPSEQ4 - Fun with Sequences (Act 2)"
   ]
  },
  {
   "cell_type": "code",
   "execution_count": 9,
   "metadata": {},
   "outputs": [
    {
     "name": "stdout",
     "output_type": "stream",
     "text": [
      "3\n",
      "5\n",
      "6\n",
      "7\n",
      "[5, 6, 7]\n",
      "2\n",
      "4\n",
      "5\n",
      "[4, 5]\n",
      "[5]\n"
     ]
    }
   ],
   "source": [
    "a=int(input())\n",
    "x=[]\n",
    "for i in range(a):\n",
    "    x.append(int(input()))\n",
    "print(x)\n",
    "b=int(input())\n",
    "y=[]\n",
    "for i in range(b):\n",
    "    y.append(int(input()))\n",
    "print(y)\n",
    "def intersection(lst1, lst2):\n",
    "    return list(set(lst1) & set(lst2))\n",
    "print(intersection(x, y))"
   ]
  },
  {
   "cell_type": "code",
   "execution_count": 31,
   "metadata": {},
   "outputs": [
    {
     "name": "stdout",
     "output_type": "stream",
     "text": [
      "5\n",
      "-2 -1 0 1 4\n",
      "6\n",
      "-3 -2 -1 1 2 3\n",
      "[-2, -1, 1]\n"
     ]
    }
   ],
   "source": [
    "import numpy\n",
    "a=int(input())\n",
    "x=[None]*a\n",
    "x=map(int, input().split())\n",
    "b=int(input())\n",
    "y=[None]*b\n",
    "y=map(int, input().split())\n",
    "\n",
    "def intersection(lst1, lst2):\n",
    "    return list(set(lst1) & set(lst2))\n",
    "f=intersection(x, y)\n",
    "f.sort()\n",
    "print(f)"
   ]
  },
  {
   "cell_type": "code",
   "execution_count": 32,
   "metadata": {},
   "outputs": [
    {
     "name": "stdout",
     "output_type": "stream",
     "text": [
      "5\n",
      "-2 -1 0 1 4\n",
      "6\n",
      "-3 -2 -1 1 2 3\n",
      "-2 -1 1\n"
     ]
    }
   ],
   "source": [
    "n = int(input())\n",
    "S = input().split()\n",
    "m = int(input())\n",
    "Q = input().split()\n",
    "\n",
    "print(' '.join(filter(lambda s: s in Q, S)))"
   ]
  },
  {
   "cell_type": "markdown",
   "metadata": {},
   "source": [
    "# ADDREV - Adding Reversed Numbers"
   ]
  },
  {
   "cell_type": "code",
   "execution_count": 49,
   "metadata": {},
   "outputs": [
    {
     "name": "stdout",
     "output_type": "stream",
     "text": [
      "3\n",
      "24 1\n",
      "34\n",
      "4358 754\n",
      "1998\n",
      "305 794\n",
      "1\n"
     ]
    }
   ],
   "source": [
    "n=int(input())\n",
    "for i in range(n):\n",
    "    a,b= map(int, input().split())\n",
    "    \n",
    "    def reverse(num):\n",
    "        rev=0\n",
    "    \n",
    "        while(num > 0):\n",
    "            digit=num%10\n",
    "            rev = rev*10 + digit\n",
    "            num = num // 10\n",
    "        return rev\n",
    "    \n",
    "    x=reverse(a)\n",
    "    y=reverse(b)\n",
    "    \n",
    "    \n",
    "    add_result = lambda x,y: x+y\n",
    "    print(reverse(add_result(x,y)))"
   ]
  },
  {
   "cell_type": "code",
   "execution_count": null,
   "metadata": {},
   "outputs": [],
   "source": []
  }
 ],
 "metadata": {
  "kernelspec": {
   "display_name": "Python 3",
   "language": "python",
   "name": "python3"
  },
  "language_info": {
   "codemirror_mode": {
    "name": "ipython",
    "version": 3
   },
   "file_extension": ".py",
   "mimetype": "text/x-python",
   "name": "python",
   "nbconvert_exporter": "python",
   "pygments_lexer": "ipython3",
   "version": "3.8.3"
  }
 },
 "nbformat": 4,
 "nbformat_minor": 4
}
