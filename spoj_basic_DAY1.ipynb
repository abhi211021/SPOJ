{
 "cells": [
  {
   "cell_type": "markdown",
   "metadata": {},
   "source": [
    "# BOOKGFT - Book Gift"
   ]
  },
  {
   "cell_type": "markdown",
   "metadata": {},
   "source": [
    "The first line of input is T, the number of test case. (T <= 20)\n",
    "\n",
    "The next T lines contains two integer, M and N that represent the number of children and the number of books. ( 1 <= M,N <= 1000 )"
   ]
  },
  {
   "cell_type": "code",
   "execution_count": 2,
   "metadata": {},
   "outputs": [
    {
     "name": "stdout",
     "output_type": "stream",
     "text": [
      "4\n",
      "4\n",
      "2\n",
      "8\n",
      "3\n",
      "5\n",
      "3\n",
      "8\n",
      "8\n",
      "Yes\n",
      "No\n",
      "No\n",
      "Yes\n"
     ]
    }
   ],
   "source": [
    "import numpy as np\n",
    "#T is number of test cases\n",
    "T= int(input())\n",
    "#M is number children and N is number of books\n",
    "M=[]\n",
    "N=[]\n",
    "for i in range(T):\n",
    "    M.append(int(input()))\n",
    "    N.append(int(input()))\n",
    "\n",
    "M=np.array(M)\n",
    "N=np.array(N)\n",
    "for i in range(T):\n",
    "    c= M % N\n",
    "    if c[i] == 0:\n",
    "        print(\"Yes\")\n",
    "    else:\n",
    "        print(\"No\")"
   ]
  },
  {
   "cell_type": "code",
   "execution_count": 4,
   "metadata": {},
   "outputs": [
    {
     "name": "stdout",
     "output_type": "stream",
     "text": [
      "1\n",
      "6 3\n",
      "Yes\n"
     ]
    }
   ],
   "source": [
    "import numpy as np\n",
    "#T is number of test cases\n",
    "T= int(input())\n",
    "\n",
    "if T >= 20:\n",
    "    print(\"Invalid Input\")\n",
    "else:\n",
    "    for i in range(T):\n",
    "        #M is number children and N is number of books\n",
    "        M, N = map(int, input().split())\n",
    "        if M <=1 | N >= 100:\n",
    "            print(\"Invalid Input\")\n",
    "        else:\n",
    "            c= M % N\n",
    "            if c == 0:\n",
    "                print(\"Yes\")\n",
    "            else:\n",
    "                print(\"No\")"
   ]
  },
  {
   "cell_type": "code",
   "execution_count": 5,
   "metadata": {},
   "outputs": [
    {
     "name": "stdout",
     "output_type": "stream",
     "text": [
      "4\n",
      "6 3\n",
      "NO\n",
      "3 6\n",
      "YES\n",
      "9 9\n",
      "YES\n",
      "6 6\n",
      "YES\n"
     ]
    }
   ],
   "source": [
    "T = int(input())\n",
    "\n",
    "for t in range(T):\n",
    "    M, N = map(int, input().split())\n",
    "    if N % M  == 0:\n",
    "        print(\"YES\")\n",
    "    else:\n",
    "        print(\"NO\")"
   ]
  },
  {
   "cell_type": "markdown",
   "metadata": {},
   "source": [
    "# STRHH - Half of the half"
   ]
  },
  {
   "cell_type": "markdown",
   "metadata": {},
   "source": [
    "Given a sequence of 2*k characters, please print every second character from the first half of the sequence. Start printing with the first character."
   ]
  },
  {
   "cell_type": "markdown",
   "metadata": {},
   "source": [
    "# PCC15D - GST Calculator"
   ]
  },
  {
   "cell_type": "code",
   "execution_count": 7,
   "metadata": {},
   "outputs": [
    {
     "name": "stdout",
     "output_type": "stream",
     "text": [
      "1\n",
      "2\n",
      "APPLE\n",
      "4\n",
      "4\n",
      "SR\n",
      "ORANGE\n",
      "4\n",
      "4\n",
      "SR\n",
      "Total Amount Include GST: 33.92 \n",
      "Total Amount GST Paid: 1.92 \n"
     ]
    }
   ],
   "source": [
    "#Number of test cases\n",
    "T = int(input())\n",
    "for t in range(T):\n",
    "    #number of item in earch case\n",
    "    number_ofItems = int(input())\n",
    "    total_sum=0\n",
    "    GST=0\n",
    "    for i in range(number_ofItems):\n",
    "        #all input in different line\n",
    "        name, quantity, price, GST_rate = input(),int(input()),float(input()),input()\n",
    "        if GST_rate== \"SR\":\n",
    "            GST= GST+ (quantity*price*(0.06))\n",
    "            total_sum = total_sum + (quantity*price*(1.06))\n",
    "        else:\n",
    "            GST= GST+0\n",
    "            total_sum = total_sum + (quantity*price)\n",
    "    print(f\"Total Amount Include GST: {total_sum} \")\n",
    "    print(f\"Total Amount GST Paid: {GST} \")"
   ]
  },
  {
   "cell_type": "markdown",
   "metadata": {},
   "source": [
    "# SMPWOW - Wow"
   ]
  },
  {
   "cell_type": "markdown",
   "metadata": {},
   "source": [
    "Input\n",
    "Given a positive integer 0 < x < 50.\n",
    "\n",
    "Output\n",
    "Print one word: Wo...ow (letter o must be repeted x times)."
   ]
  },
  {
   "cell_type": "code",
   "execution_count": 8,
   "metadata": {},
   "outputs": [
    {
     "name": "stdout",
     "output_type": "stream",
     "text": [
      "7\n",
      "Wooooooow\n"
     ]
    }
   ],
   "source": [
    "t=int(input())\n",
    "print(\"W\"+t*\"o\"+\"w\")"
   ]
  },
  {
   "cell_type": "code",
   "execution_count": null,
   "metadata": {},
   "outputs": [],
   "source": []
  }
 ],
 "metadata": {
  "kernelspec": {
   "display_name": "Python 3",
   "language": "python",
   "name": "python3"
  },
  "language_info": {
   "codemirror_mode": {
    "name": "ipython",
    "version": 3
   },
   "file_extension": ".py",
   "mimetype": "text/x-python",
   "name": "python",
   "nbconvert_exporter": "python",
   "pygments_lexer": "ipython3",
   "version": "3.8.3"
  }
 },
 "nbformat": 4,
 "nbformat_minor": 4
}
